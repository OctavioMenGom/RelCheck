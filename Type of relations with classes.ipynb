{
 "cells": [
  {
   "attachments": {},
   "cell_type": "markdown",
   "id": "9f5434ae",
   "metadata": {},
   "source": [
    "# Type of relationship with classes\n",
    "\n",
    "In discrete maths we study graphs and sets, some of the most used tools are the relationships between a set A with a graph G represented in a ordered pair set, this set can represent other things though. \n",
    "\n",
    "Some of the relationships that can be in such set are the followiong:\n",
    "* Reflexive: for every a element in A there must be (a,a) pair in G\n",
    "* Symmetric: for every (a,b) in G there must exist an (b,a) pair\n",
    "* Antisymmetric: in this relationship there must not exist ordered paris that are mirror like within G\n",
    "* Transitive: for all (a,b) and (b,c) pairs there must exist an (a,c) pair in G\n",
    "\n",
    "This relationships must be checked to tell if a set G is from equivalence or partial order.\n",
    "* Equivalence relation: G must be reflexive, symmetric and transitive\n",
    "* Partial order relation: G must be reflexive, antisymmetric and transitive"
   ]
  },
  {
   "cell_type": "code",
   "execution_count": 1,
   "id": "1523c4b5",
   "metadata": {},
   "outputs": [],
   "source": [
    "class relation:\n",
    "    def __init__(self,A,R):\n",
    "        self.a = A\n",
    "        self.r = R\n",
    "        # Types of relationship declared\n",
    "        self.reflexive()\n",
    "        self.symmetric()\n",
    "        self.antisymmetric()\n",
    "        self.transitive()\n",
    "        self.is_equivalence()\n",
    "        self.is_order()\n",
    "\n",
    "        # Partitions and class of equivalence declared\n",
    "        self.eq_partitions()\n",
    "        self.eq_clas()\n",
    "\n",
    "    # Reflexive relationship check\n",
    "    def reflexive(self):\n",
    "        # We add a empyt list to add the missing ordered pairs so the relationship will be reflexive\n",
    "        mis_rel_r = []\n",
    "        # We check al the elements of the A set with a for cycle\n",
    "        for a in self.a:\n",
    "            # If there are not all the ordered pairs (a,a) for every a in A then we add the missing pair to the list\n",
    "            if (a,a) not in self.r:\n",
    "                m_rel = (a,a); mis_rel_r.append(m_rel)\n",
    "                # We print that it is not reflexive and the list with the missing pairs\n",
    "                return (\"No es reflexiva porque faltan las relaciones: \"+ str(mis_rel_r))\n",
    "        # In case all the elements in the set A have ordered pairs in the relationship we return a True\n",
    "        return True\n",
    "    \n",
    "    # Symmetric relationship check\n",
    "    def symmetric(self):\n",
    "        # Same as before we create an empty list to nest the missing pairs so R could be symmetric\n",
    "        mis_rel_s = []\n",
    "        for a, b in self.r:\n",
    "            # For every ordered pair (a,b) there must exist an (b,a) pair\n",
    "            if (b, a) not in self.r:\n",
    "                # if there is not such pair (b,a) it will be added from the cycle to the list\n",
    "                m_rel = (b,a); mis_rel_s.append(m_rel)\n",
    "                # if there is a single ordered pair in the missing list it wont be symmetric\n",
    "                return (\"No es simétrica porque faltan las relaciones: \"+str(mis_rel_s))\n",
    "        # if all the pairs (a,b) have one (b,a) then we have a True \n",
    "        return True\n",
    "\n",
    "    # Antisymmetric relationship check\n",
    "    def antisymmetric(self):\n",
    "        # Other empty list but this time we'll add the pairs that already exist in R\n",
    "        mis_rel_as = []\n",
    "        for a in self.a:\n",
    "            # We check for every a in A if exist (a,a)\n",
    "            for a, b in self.r:\n",
    "                # and if for (a,b) there is no (b,a)\n",
    "                if (a,b) in self.r and (b,a) in self.r and a != b:\n",
    "                    m_rel = [(a,b),(b,a)]; mis_rel_as.append(m_rel)\n",
    "                    return (\"No es antisimétrica porque existen las relaciones: \"+str(mis_rel_as))\n",
    "        return True\n",
    "    # Transitive relationship check\n",
    "    def transitive(self):\n",
    "        # in this case we must see if there is a (a,c) pair for (a,b) and (b,c) in R\n",
    "        tran_rel = []\n",
    "        mis_rel_t = []\n",
    "        for a in self.a:\n",
    "            # for every a and b in A we want to check if there is a transition (a,b) to (b,c) so exist (a,c)\n",
    "            for b in self.a:\n",
    "                if (a, b) in self.r:\n",
    "                    for c in self.a:\n",
    "                        # in case ther is no such (a,c) pair it will be added with the corresponding (a,b) and (b,c) pairs\n",
    "                        if (b, c) in self.r and (a, c) not in self.r:\n",
    "                            t_rel = [(a,b), (b,c)] ;m_rel = (a,c)\n",
    "                            tran_rel.append(t_rel); mis_rel_t.append(m_rel) \n",
    "                            return (\"No es transitiva porque para las relaciones \"+str(tran_rel)+\" faltan las relaciones \"+str(mis_rel_t))\n",
    "        return True\n",
    "\n",
    "    # Equivalence relationship check \n",
    "    # an equivalence relation must be reflexive, symmetric and transitive\n",
    "    def is_equivalence(self):\n",
    "        # first we create a list with the values of reflexive, symmetric and reflexive check\n",
    "        eq = [self.reflexive(), self.symmetric(), self.transitive()]\n",
    "        # and we also have a empty list were it'll added the non checked type of relationship\n",
    "        l_not =[]\n",
    "        miss_not = []\n",
    "        # if all the values inside the list are not True then the relationship is not of equivalence\n",
    "        if eq != [True, True, True]:\n",
    "            # for each check on the list we want to know the ones that are not True, then add them to a list\n",
    "            if eq[0] != True:\n",
    "                l_not.append(\"reflexiva\")\n",
    "                miss_not.append(self.reflexive())\n",
    "            elif eq[1] != True:\n",
    "                l_not.append(\"simétrica\")\n",
    "                miss_not.append(self.symmetric())\n",
    "            elif eq[2] != True:\n",
    "                l_not.append(\"transitiva\")\n",
    "                miss_not.append(self.transitive())\n",
    "            return (\"La relación no es de equivalencia por qué no es: \" + str(l_not)+\". \"\n",
    "            + str(miss_not))\n",
    "        else:\n",
    "            return True\n",
    "\n",
    "    # print the equivalence graph\n",
    "    def equivalence_graph(self):\n",
    "        # for this task we will use the networkx library for python\n",
    "        import networkx as nx\n",
    "        # we declare a directed graph\n",
    "        G = nx.DiGraph(directed= True)\n",
    "        # and add its edges from R\n",
    "        G.add_edges_from(self.r)\n",
    "        # if the value of is_equivalence is not True we will say it's not of equivalene\n",
    "        if self.is_equivalence() != True:\n",
    "            p = \"No es posible mostrar el grafo pues no es relación de equivalencia\"\n",
    "        else:\n",
    "            # else we will print the graph\n",
    "            p = nx.draw_networkx(G, node_color='black', node_size=600, font_size= 15, font_color='yellow', with_labels=True, arrowsize=18, edge_color='green')\n",
    "        \n",
    "        return p\n",
    "\n",
    "    # partitions of equivalence relationship \n",
    "    def eq_partitions(self):\n",
    "        import networkx as nx\n",
    "        # for this we need to use once again networkx library\n",
    "        G = nx.DiGraph()\n",
    "        # we create a graph with egdes from R\n",
    "        G.add_edges_from(self.r)\n",
    "\n",
    "        # we create an empty list that will recieve the a of the (a,b) ordered pairs from R\n",
    "        xs = []\n",
    "        for x,y in self.r:\n",
    "            xs.append(x)\n",
    "        # to drop duplicates we turn the list to a set and back again to a list\n",
    "        xs = list(set(xs))\n",
    "        # the next step is create a list with the relations of A with its same elements, this is represente in R\n",
    "        tex = []\n",
    "        # in this cycle we create sublists of elements of A related to, same again, elements of A\n",
    "        for i in xs:\n",
    "            z = [n for n in G.neighbors(i)]\n",
    "            tex.append(z)  \n",
    "        # there are missing the dictionaries that relate the values on A to the list of relations in R\n",
    "        parts = {}\n",
    "        keys = range(len(tex))\n",
    "        # this cycle adds the related values with their lists\n",
    "        for j in keys:\n",
    "            parts[j+1] = tex[j]\n",
    "        # if the value of is_equivalence is not True it won't print the dictionary of partitions\n",
    "        if self.is_equivalence() != True:\n",
    "            return (\"No es posible mostrar las particiones pues no es relación de equivalencia\")\n",
    "        \n",
    "        return parts\n",
    "\n",
    "    # equivalence class\n",
    "    def eq_clas(self):\n",
    "    # is a set of all partitions subsets\n",
    "    # we will use once again networkx\n",
    "        import networkx as nx\n",
    "\n",
    "        G = nx.DiGraph()\n",
    "        G.add_edges_from(self.r)\n",
    "        # we use the same method for the partitions\n",
    "        xs = []\n",
    "        for x,y in self.r:\n",
    "            xs.append(x)\n",
    "\n",
    "        xs = list(set(xs))\n",
    "\n",
    "        tex = []\n",
    "        for i in xs:\n",
    "            z = [n for n in G.neighbors(i)]\n",
    "            tex.append(z)\n",
    "\n",
    "        if self.is_equivalence() != True:\n",
    "            return (\"No es posible mostrar la clase de equivalencia pues no es relación de equivalencia\")\n",
    "        # this time we don't want a dictionary but a set of subsets\n",
    "        # in the tex list we will have all the tuples turned into a set\n",
    "        # and then we have a set of unique sets\n",
    "        return {tuple(x) for x in tex}\n",
    "    # partial order relationship\n",
    "    def is_order(self):\n",
    "        # for R to be of partial order \n",
    "        or_p = [self.reflexive(), self.antisymmetric(), self.transitive()]\n",
    "        p_not = []\n",
    "        p_mis = []\n",
    "        if or_p != [True, True, True]:\n",
    "            if or_p[0] != True:\n",
    "                p_not.append(\"reflexiva\")\n",
    "                p_mis.append(self.reflexive())\n",
    "            elif or_p[1] != True:\n",
    "                p_not.append(\"antisimétrica\")\n",
    "                p_mis.append(self.antisymmetric())\n",
    "            elif or_p[2] != True:\n",
    "                p_not.append(\"transitiva\")\n",
    "                p_mis.append(self.transitive())\n",
    "            return (\"La relación no es de orden parcial por qué no es: \" + str(p_not)+\". \"\n",
    "            + str(p_mis))\n",
    "        else:\n",
    "            return True\n",
    "       \n",
    "    def order_graph(self):\n",
    "        \n",
    "        import networkx as nx\n",
    "        import random\n",
    "        \n",
    "        result = {}\n",
    "        for a,b in self.r:\n",
    "            result.setdefault(a,[]).append(b)\n",
    "\n",
    "        result_list = []\n",
    "        for a,b in self.r:\n",
    "            result_list.append(a and b)\n",
    "\n",
    "        primes = []\n",
    "        for num in result_list:\n",
    "            prime = True\n",
    "            for i in range(2,num):\n",
    "                if (num%i == 0 ):\n",
    "                    prime = False\n",
    "            if prime:\n",
    "                primes.append(num)\n",
    "\n",
    "        edges = {}\n",
    "        rl_reverse = list(result_list)\n",
    "        for a in rl_reverse:\n",
    "            for b in rl_reverse:\n",
    "                if (a%b==0) and (a!=b):\n",
    "                    edges.setdefault(a,[]).append(b)\n",
    "        \n",
    "        edges_list = [(x,y) for x,y in self.r if x!=y]\n",
    "        for i in list(range(1,10)):\n",
    "            for a,b in edges_list:\n",
    "                if b in list(edges.keys()):\n",
    "                    for z in edges[b]:\n",
    "                        if (z!=a) and (z%a==0):\n",
    "                            while (a,b) in edges_list:\n",
    "                                edges_list.remove((a,b))\n",
    "\n",
    "        pos = {}\n",
    "        randlist = list(range(1,len(list(result.keys()))+1))\n",
    "        for a in (list(result.keys())):\n",
    "            if a==1:\n",
    "                pos.setdefault(a, ((len(list(result.keys()))/2), -len(list(result.keys()))*2-4))\n",
    "            elif a in primes:\n",
    "                pos.setdefault(a, (a, -len(list(result.keys()))*2))\n",
    "            elif len(list(result[a])) == 1:\n",
    "                exitr = random.choice(randlist)\n",
    "                pos.setdefault(a,(exitr, 0))\n",
    "                randlist.remove(exitr)\n",
    "            else:\n",
    "                exitr = random.choice(randlist)\n",
    "                pos.setdefault(a, (exitr, (-len(list(result[a])))*2))\n",
    "                randlist.remove(exitr)\n",
    "\n",
    "        T = nx.Graph()\n",
    "        T.add_nodes_from(list(pos.keys()))\n",
    "        T.add_edges_from(edges_list)\n",
    "        \n",
    "        if self.is_order() != True:\n",
    "            p = \"No es posible mostrar el grafo pues no es relación de orden\"\n",
    "        else: \n",
    "            p = nx.draw(T, pos, node_color='black', node_size=600, font_size= 15, font_color='yellow', with_labels=True, arrowsize=18, edge_color='green')\n",
    "        return p\n",
    "        \n"
   ]
  },
  {
   "attachments": {},
   "cell_type": "markdown",
   "id": "31a365fb",
   "metadata": {},
   "source": [
    "In case G is of equivalence there must be presented de equivalence class with it's respective graph, in case it's of partial order the graph of G must be shown."
   ]
  },
  {
   "cell_type": "code",
   "execution_count": 2,
   "id": "710d15d1",
   "metadata": {},
   "outputs": [],
   "source": [
    "A1 = [1,2,3]\n",
    "R1 = [(1,1),(1,3),(2,1),(2,2),(3,3),(2,3)] # Par Ord rel\n",
    "\n",
    "R2 = [(1,1),(1,2),(2,1),(2,2),(3,3)] # Eq. rel\n",
    "\n",
    "A2 = [1,2,3,4]\n",
    "R3 = [(1,1),(2,2),(3,3),(4,4),(1,2),(2,1),(1,3),(3,1),(1,4),(4,1),(4,2),(2,4)] # None\n",
    "\n",
    "A3 = [1,2,3]\n",
    "R4 = [(1,1),(1,2),(1, 3),(2,2),(2,3),(3,2),(3,3),(2,1),(3,1)]\n",
    "\n",
    "A4= [0,1,2,3]\n",
    "R5= [(0,0),(0,1),(0,2),(0,3),(1,0),(1,1),(1,2),(1,3),(2,0),(2,2),(3,3)]\n",
    "\n",
    "A5 = [\"a\",\"b\",\"c\",\"d\"]\n",
    "R6=[('a','a'), ('a','d'), ('d','d'),('d','a'), ('b','b'),('b','c'), ('c','c'), ('c','b')]\n",
    "\n",
    "A6 = [1,2,3,4]\n",
    "R7 = [(1,2),(1,3),(2,3),(2,4),(3,1)]\n",
    "R8 = [(2,1),(3,1),(4,1),(1,3)]\n",
    "\n",
    "A7 = [1,2,3,4,5,6,7,8,9]\n",
    "R9 = [(1,1),(1,2),(1,3),(1,4),(1,5),(1,7),(1,8),(1,9),(2,2),(2,4),(2,6),(2,8),(3,3),(3,6),(3,9),(4,4),(4,8),(5,5),(6,6),(7,7),(8,8),(9,9)]\n",
    "\n",
    "A8 = [1,2,3,4,5,6,7]\n",
    "R10= [(1,1),(1,2),(1,3),(1,4),(1,5),(1,6),(1,7),(2,2),(2,4),(2,5),(2,6),(2,7),(3,3),(3,4),(3,5),(3,6),(3,7),(4,4),(4,6),(4,7),(5,5),(5,6),(5,7),(6,6),(6,7),(7,7)]"
   ]
  },
  {
   "cell_type": "code",
   "execution_count": 3,
   "id": "f05fbc07",
   "metadata": {},
   "outputs": [
    {
     "data": {
      "text/plain": [
       "(\"La relación no es de equivalencia por qué no es: ['simétrica']. ['No es simétrica porque faltan las relaciones: [(3, 1)]']\",\n",
       " True)"
      ]
     },
     "execution_count": 3,
     "metadata": {},
     "output_type": "execute_result"
    }
   ],
   "source": [
    "S1 = relation(A1,R1)\n",
    "S1.is_equivalence(), S1.is_order()"
   ]
  },
  {
   "cell_type": "code",
   "execution_count": 4,
   "id": "e1872acd",
   "metadata": {},
   "outputs": [
    {
     "data": {
      "text/plain": [
       "'No es posible mostrar la clase de equivalencia pues no es relación de equivalencia'"
      ]
     },
     "execution_count": 4,
     "metadata": {},
     "output_type": "execute_result"
    }
   ],
   "source": [
    "S1.eq_clas()"
   ]
  },
  {
   "cell_type": "code",
   "execution_count": 5,
   "id": "66d676d0",
   "metadata": {},
   "outputs": [
    {
     "data": {
      "text/plain": [
       "'No es posible mostrar las particiones pues no es relación de equivalencia'"
      ]
     },
     "execution_count": 5,
     "metadata": {},
     "output_type": "execute_result"
    }
   ],
   "source": [
    "S1.eq_partitions()"
   ]
  },
  {
   "cell_type": "code",
   "execution_count": 6,
   "id": "5dba59ac",
   "metadata": {},
   "outputs": [
    {
     "data": {
      "text/plain": [
       "(True,\n",
       " \"La relación no es de orden parcial por qué no es: ['antisimétrica']. ['No es antisimétrica porque existen las relaciones: [[(1, 2), (2, 1)]]']\")"
      ]
     },
     "execution_count": 6,
     "metadata": {},
     "output_type": "execute_result"
    }
   ],
   "source": [
    "S2 = relation(A1,R2)\n",
    "S2.is_equivalence(), S2.is_order()"
   ]
  },
  {
   "cell_type": "code",
   "execution_count": 7,
   "id": "3a20f81d",
   "metadata": {},
   "outputs": [
    {
     "data": {
      "text/plain": [
       "{1: [1, 2], 2: [1, 2], 3: [3]}"
      ]
     },
     "execution_count": 7,
     "metadata": {},
     "output_type": "execute_result"
    }
   ],
   "source": [
    "S2.eq_partitions()"
   ]
  },
  {
   "cell_type": "code",
   "execution_count": 8,
   "id": "26897c69",
   "metadata": {},
   "outputs": [
    {
     "data": {
      "text/plain": [
       "{(1, 2), (3,)}"
      ]
     },
     "execution_count": 8,
     "metadata": {},
     "output_type": "execute_result"
    }
   ],
   "source": [
    "S2.eq_clas()"
   ]
  },
  {
   "cell_type": "code",
   "execution_count": 9,
   "id": "12504f83",
   "metadata": {},
   "outputs": [
    {
     "data": {
      "image/png": "[encoded data removed]",
      "text/plain": [
       "<Figure size 432x288 with 1 Axes>"
      ]
     },
     "metadata": {},
     "output_type": "display_data"
    }
   ],
   "source": [
    "S2.equivalence_graph()"
   ]
  },
  {
   "cell_type": "code",
   "execution_count": 10,
   "id": "ce116876",
   "metadata": {},
   "outputs": [
    {
     "data": {
      "text/plain": [
       "{1: [1, 2], 2: [1, 2], 3: [3]}"
      ]
     },
     "execution_count": 10,
     "metadata": {},
     "output_type": "execute_result"
    }
   ],
   "source": [
    "S2.eq_partitions()"
   ]
  },
  {
   "cell_type": "code",
   "execution_count": 11,
   "id": "216508f1",
   "metadata": {},
   "outputs": [
    {
     "data": {
      "text/plain": [
       "{(1, 2), (3,)}"
      ]
     },
     "execution_count": 11,
     "metadata": {},
     "output_type": "execute_result"
    }
   ],
   "source": [
    "S2.eq_clas()"
   ]
  },
  {
   "cell_type": "code",
   "execution_count": 12,
   "id": "0d012271",
   "metadata": {},
   "outputs": [
    {
     "data": {
      "text/plain": [
       "(\"La relación no es de equivalencia por qué no es: ['transitiva']. ['No es transitiva porque para las relaciones [[(2, 1), (1, 3)]] faltan las relaciones [(2, 3)]']\",\n",
       " \"La relación no es de orden parcial por qué no es: ['antisimétrica']. ['No es antisimétrica porque existen las relaciones: [[(1, 2), (2, 1)]]']\")"
      ]
     },
     "execution_count": 12,
     "metadata": {},
     "output_type": "execute_result"
    }
   ],
   "source": [
    "S3 = relation(A2,R3)\n",
    "S3.is_equivalence(),S3.is_order()"
   ]
  },
  {
   "cell_type": "code",
   "execution_count": 13,
   "id": "8e8e4d1e",
   "metadata": {},
   "outputs": [
    {
     "data": {
      "text/plain": [
       "(True,\n",
       " \"La relación no es de orden parcial por qué no es: ['antisimétrica']. ['No es antisimétrica porque existen las relaciones: [[(1, 2), (2, 1)]]']\")"
      ]
     },
     "execution_count": 13,
     "metadata": {},
     "output_type": "execute_result"
    }
   ],
   "source": [
    "S4 = relation(A3,R4)\n",
    "S4.is_equivalence(),S4.is_order()"
   ]
  },
  {
   "cell_type": "code",
   "execution_count": 14,
   "id": "7704eea5",
   "metadata": {},
   "outputs": [
    {
     "data": {
      "image/png": "[encoded data removed]",
      "text/plain": [
       "<Figure size 432x288 with 1 Axes>"
      ]
     },
     "metadata": {},
     "output_type": "display_data"
    }
   ],
   "source": [
    "S1.order_graph()"
   ]
  },
  {
   "cell_type": "code",
   "execution_count": 15,
   "id": "28d18887",
   "metadata": {},
   "outputs": [
    {
     "data": {
      "text/plain": [
       "'La relación no es de orden parcial por qué no es: [\\'antisimétrica\\']. [\"No es antisimétrica porque existen las relaciones: [[(\\'a\\', \\'d\\'), (\\'d\\', \\'a\\')]]\"]'"
      ]
     },
     "execution_count": 15,
     "metadata": {},
     "output_type": "execute_result"
    }
   ],
   "source": [
    "S5 = relation(A5,R6)\n",
    "S5.is_order()"
   ]
  },
  {
   "cell_type": "code",
   "execution_count": 16,
   "id": "e6f70283",
   "metadata": {},
   "outputs": [
    {
     "data": {
      "text/plain": [
       "True"
      ]
     },
     "execution_count": 16,
     "metadata": {},
     "output_type": "execute_result"
    }
   ],
   "source": [
    "S5.is_equivalence()"
   ]
  },
  {
   "cell_type": "code",
   "execution_count": 17,
   "id": "48ca499b",
   "metadata": {},
   "outputs": [],
   "source": [
    "S8 = relation(A8,R10)"
   ]
  },
  {
   "cell_type": "code",
   "execution_count": 18,
   "id": "76329d67",
   "metadata": {},
   "outputs": [
    {
     "data": {
      "image/png": "[encoded data removed]",
      "text/plain": [
       "<Figure size 432x288 with 1 Axes>"
      ]
     },
     "metadata": {},
     "output_type": "display_data"
    }
   ],
   "source": [
    "S8.order_graph()"
   ]
  },
  {
   "cell_type": "code",
   "execution_count": 19,
   "id": "80f38274",
   "metadata": {},
   "outputs": [
    {
     "data": {
      "text/plain": [
       "True"
      ]
     },
     "execution_count": 19,
     "metadata": {},
     "output_type": "execute_result"
    }
   ],
   "source": [
    "S8.is_order()"
   ]
  },
  {
   "cell_type": "code",
   "execution_count": null,
   "id": "bb7d3831",
   "metadata": {},
   "outputs": [],
   "source": []
  }
 ],
 "metadata": {
  "kernelspec": {
   "display_name": "Python 3",
   "language": "python",
   "name": "python3"
  },
  "language_info": {
   "codemirror_mode": {
    "name": "ipython",
    "version": 3
   },
   "file_extension": ".py",
   "mimetype": "text/x-python",
   "name": "python",
   "nbconvert_exporter": "python",
   "pygments_lexer": "ipython3",
   "version": "3.8.10"
  },
  "latex_envs": {
   "LaTeX_envs_menu_present": true,
   "autoclose": false,
   "autocomplete": true,
   "bibliofile": "biblio.bib",
   "cite_by": "apalike",
   "current_citInitial": 1,
   "eqLabelWithNumbers": true,
   "eqNumInitial": 1,
   "hotkeys": {
    "equation": "Ctrl-E",
    "itemize": "Ctrl-I"
   },
   "labels_anchors": false,
   "latex_user_defs": false,
   "report_style_numbering": false,
   "user_envs_cfg": false
  },
  "vscode": {
   "interpreter": {
    "hash": "92fc406638e3b3bd2dad0932d5d19ae6c8c88dc5f6477aebc3a3f1b88fbbb58a"
   }
  }
 },
 "nbformat": 4,
 "nbformat_minor": 5
}
